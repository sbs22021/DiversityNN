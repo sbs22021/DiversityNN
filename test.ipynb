{
 "cells": [
  {
   "cell_type": "code",
   "execution_count": 41,
   "metadata": {},
   "outputs": [
    {
     "name": "stderr",
     "output_type": "stream",
     "text": [
      "C:\\Users\\rmsry\\AppData\\Local\\Temp\\ipykernel_29544\\1566710361.py:11: DeprecationWarning: Please use `gaussian_filter` from the `scipy.ndimage` namespace, the `scipy.ndimage.filters` namespace is deprecated.\n",
      "  from scipy.ndimage.filters import gaussian_filter\n"
     ]
    }
   ],
   "source": [
    "import pandas as pd\n",
    "import numpy as np\n",
    "from sklearn.model_selection import train_test_split\n",
    "import torch\n",
    "import torchvision\n",
    "from ast import literal_eval\n",
    "from torch.utils.data.dataset import Dataset\n",
    "from Source.DataLoading.DataProcessor import DataProcessor\n",
    "from scipy.interpolate import interp1d\n",
    "import torch\n",
    "import pathlib\n",
    "from torch.utils.data.dataset import Dataset\n",
    "import requests\n",
    "\n",
    "wqi_df = pd.read_csv('data/DSVersion1Scalled.csv')"
   ]
  },
  {
   "cell_type": "code",
   "execution_count": 20,
   "metadata": {},
   "outputs": [],
   "source": [
    "wqi_df['scaled_features_array'] = wqi_df['scaled_features'].apply(literal_eval)\n",
    "wqi_df['scaled_features_numpy_array'] = wqi_df['scaled_features_array'].apply(np.array)\n",
    "X = np.vstack(wqi_df.scaled_features_numpy_array.to_numpy())\n",
    "Y = wqi_df.ClassificationStatus_index.to_numpy()"
   ]
  },
  {
   "cell_type": "code",
   "execution_count": 29,
   "metadata": {},
   "outputs": [],
   "source": [
    "split_idx = int(0.8 * X.shape[0])"
   ]
  },
  {
   "cell_type": "code",
   "execution_count": 30,
   "metadata": {},
   "outputs": [],
   "source": [
    "X_train = X[:split_idx]\n",
    "X_test = X[split_idx:]\n",
    "\n",
    "Y_train = Y[:split_idx]\n",
    "Y_test = Y[split_idx:]"
   ]
  },
  {
   "cell_type": "code",
   "execution_count": 34,
   "metadata": {},
   "outputs": [
    {
     "data": {
      "text/plain": [
       "5"
      ]
     },
     "execution_count": 34,
     "metadata": {},
     "output_type": "execute_result"
    }
   ],
   "source": [
    "wqi_df.ClassificationStatus_index.nunique()"
   ]
  },
  {
   "cell_type": "code",
   "execution_count": 33,
   "metadata": {},
   "outputs": [
    {
     "data": {
      "text/plain": [
       "((8396, 29), (8396,), (2099, 29), (2099,))"
      ]
     },
     "execution_count": 33,
     "metadata": {},
     "output_type": "execute_result"
    }
   ],
   "source": [
    "X_train.shape, Y_train.shape, X_test.shape, Y_test.shape"
   ]
  },
  {
   "cell_type": "code",
   "execution_count": 42,
   "metadata": {},
   "outputs": [],
   "source": [
    "class ObjectView(object):\n",
    "    def __init__(self, d):\n",
    "        self.__dict__ = d"
   ]
  },
  {
   "cell_type": "code",
   "execution_count": 43,
   "metadata": {},
   "outputs": [],
   "source": [
    "def get_dataset_args(as_dict=False):\n",
    "    arg_dict = {\n",
    "        \"num_samples\": 1000,  # modified for meta-learning\n",
    "        \"train_split\": 0.8,\n",
    "        \"template_len\": 12,\n",
    "        \"padding\": [36, 60],\n",
    "        \"scale_coeff\": 0.4,\n",
    "        \"max_translation\": 48,\n",
    "        \"corr_noise_scale\": 0.25,\n",
    "        \"iid_noise_scale\": 2e-2,\n",
    "        \"shear_scale\": 0.75,\n",
    "        \"final_seq_length\": 40,\n",
    "        \"url\": \"https://github.com/greydanus/mnist1d/raw/master/mnist1d_data.pkl\",\n",
    "    }\n",
    "    return arg_dict if as_dict else ObjectView(arg_dict)"
   ]
  },
  {
   "cell_type": "code",
   "execution_count": 44,
   "metadata": {},
   "outputs": [],
   "source": [
    "class WQIDataset(Dataset):\n",
    "    \"\"\"Pytorch custom dataset for loading WQI dataset\"\"\"\n",
    "\n",
    "    def __init__(\n",
    "        self,\n",
    "        root_path,\n",
    "        train,\n",
    "        **kwargs\n",
    "    ):\n",
    "        \"\"\"\n",
    "        Args:\n",
    "            root_path (string): path to the dataset pickle file\n",
    "            train (bool): selects between training and testing dataset\n",
    "            regenerate (bool): Whether to regenerate the dataset\n",
    "            download (bool): Downloads original 1D mnist dataset\n",
    "            transform (Function): Applies transformation to PIL image\n",
    "            target_transform (Function): Applies transformation to target values\n",
    "        \"\"\"\n",
    "        self.args = get_dataset_args()\n",
    "        self.path = root_path + \"/DSVersion1Scalled.csv\"\n",
    "        self.train = train\n",
    "\n",
    "\n",
    "        wqi_df = pd.read_csv(self.path)\n",
    "        wqi_df['scaled_features_array'] = wqi_df['scaled_features'].apply(literal_eval)\n",
    "        wqi_df['scaled_features_numpy_array'] = wqi_df['scaled_features_array'].apply(np.array)\n",
    "        X = np.vstack(wqi_df.scaled_features_numpy_array.to_numpy())\n",
    "        Y = wqi_df.ClassificationStatus_index.to_numpy()\n",
    "        split_idx = int(0.8 * X.shape[0])\n",
    "        X_train = X[:split_idx]\n",
    "        X_test = X[split_idx:]\n",
    "\n",
    "        Y_train = Y[:split_idx]\n",
    "        Y_test = Y[split_idx:]\n",
    "\n",
    "        self.dataset = {\n",
    "            \"x\": X_train,\n",
    "            \"y\": Y_train,\n",
    "            \"x_test\": X_test,\n",
    "            \"y_test\": Y_test,\n",
    "        }        \n",
    "        \n",
    "        if train:\n",
    "            self.imgs = self.dataset[\"x\"]\n",
    "            self.targets = self.dataset[\"y\"]\n",
    "        else:\n",
    "            self.imgs = self.dataset[\"x_test\"]\n",
    "            self.targets = self.dataset[\"y_test\"]\n",
    "\n",
    "    def __len__(self):\n",
    "        return len(self.targets)\n",
    "\n",
    "    def __getitem__(self, idx):\n",
    "        img, target = self.imgs[idx].astype(\"float32\"), int(self.targets[idx])\n",
    "        return img, target"
   ]
  },
  {
   "cell_type": "code",
   "execution_count": 45,
   "metadata": {},
   "outputs": [],
   "source": [
    "class WQI(DataProcessor):\n",
    "    \"\"\"WQI dataset and manipulation tools\"\"\"\n",
    "\n",
    "    def __init__(self, options):\n",
    "        super().__init__(options)\n",
    "        self.input_size = 8396\n",
    "        self.output_size = 5\n",
    "\n",
    "    def process(self):\n",
    "        \"\"\"Prepare WQi for use by the network\"\"\"\n",
    "        train_loader = torch.utils.data.DataLoader(\n",
    "            WQIDataset(\n",
    "                root_path=self.options.input_data,\n",
    "                train=True\n",
    "            ),\n",
    "            **self.options.kwargs\n",
    "        )\n",
    "\n",
    "        test_loader = torch.utils.data.DataLoader(\n",
    "            WQIDataset(\n",
    "                root_path=self.options.input_data,\n",
    "                train=False\n",
    "            ),\n",
    "            **self.options.kwargs\n",
    "        )\n",
    "        return train_loader, test_loader\n",
    "\n",
    "    def fc_reshape(self, data: torch.Tensor) -> torch.Tensor:\n",
    "        \"\"\"Reshapes MNIST data for FC use\n",
    "\n",
    "        Args:\n",
    "            data (torch.Tensor): input data\n",
    "\n",
    "        Returns:\n",
    "            torch.Tensor: reshaped data\n",
    "        \"\"\"\n",
    "        return data.reshape(-1, 28 * 28)"
   ]
  },
  {
   "cell_type": "code",
   "execution_count": null,
   "metadata": {},
   "outputs": [],
   "source": []
  }
 ],
 "metadata": {
  "kernelspec": {
   "display_name": "CondaDiversityNN",
   "language": "python",
   "name": "python3"
  },
  "language_info": {
   "codemirror_mode": {
    "name": "ipython",
    "version": 3
   },
   "file_extension": ".py",
   "mimetype": "text/x-python",
   "name": "python",
   "nbconvert_exporter": "python",
   "pygments_lexer": "ipython3",
   "version": "3.11.5"
  },
  "orig_nbformat": 4
 },
 "nbformat": 4,
 "nbformat_minor": 2
}
